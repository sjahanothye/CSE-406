{
  "nbformat": 4,
  "nbformat_minor": 0,
  "metadata": {
    "colab": {
      "provenance": []
    },
    "kernelspec": {
      "name": "python3",
      "display_name": "Python 3"
    },
    "language_info": {
      "name": "python"
    }
  },
  "cells": [
    {
      "cell_type": "code",
      "execution_count": 14,
      "metadata": {
        "colab": {
          "base_uri": "https://localhost:8080/"
        },
        "id": "IFMmMqNyDCPG",
        "outputId": "94c0075c-b119-473f-e21d-3cdb31132c51"
      },
      "outputs": [
        {
          "output_type": "stream",
          "name": "stdout",
          "text": [
            "Page\tFrames\t\tStatus\n",
            "------------------------------\n",
            "7\t[7]\tMiss\n",
            "0\t[7, 0]\tMiss\n",
            "1\t[7, 0, 1]\tMiss\n",
            "2\t[7, 0, 1, 2]\tMiss\n",
            "0\t[7, 1, 2, 0]\tHit\n",
            "3\t[1, 2, 0, 3]\tMiss\n",
            "0\t[1, 2, 3, 0]\tHit\n",
            "4\t[2, 3, 0, 4]\tMiss\n",
            "2\t[3, 0, 4, 2]\tHit\n",
            "3\t[0, 4, 2, 3]\tHit\n",
            "0\t[4, 2, 3, 0]\tHit\n",
            "\n",
            "Total Page Faults: 6\n"
          ]
        }
      ],
      "source": [
        "def lru_page_replacement(pages, frame_size):\n",
        "    frames = []\n",
        "    page_faults = 0\n",
        "\n",
        "    print(\"Page\\tFrames\\t\\tStatus\")\n",
        "    print(\"-\" * 30)\n",
        "\n",
        "    for page in pages:\n",
        "        if page not in frames:\n",
        "            page_faults += 1\n",
        "            if len(frames) < frame_size:\n",
        "                frames.append(page)\n",
        "            else:\n",
        "                frames.pop(0)\n",
        "                frames.append(page)\n",
        "            status = \"Miss\"\n",
        "        else:\n",
        "            frames.remove(page)\n",
        "            frames.append(page)\n",
        "            status = \"Hit\"\n",
        "\n",
        "        print(f\"{page}\\t{frames}\\t{status}\")\n",
        "\n",
        "    print(\"\\nTotal Page Faults:\", page_faults)\n",
        "\n",
        "pages = [7, 0, 1, 2, 0, 3, 0, 4, 2, 3, 0]\n",
        "frame_size = 4\n",
        "\n",
        "lru_page_replacement(pages, frame_size)\n"
      ]
    }
  ]
}