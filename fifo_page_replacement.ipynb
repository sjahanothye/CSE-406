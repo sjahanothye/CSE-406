{
  "nbformat": 4,
  "nbformat_minor": 0,
  "metadata": {
    "colab": {
      "provenance": []
    },
    "kernelspec": {
      "name": "python3",
      "display_name": "Python 3"
    },
    "language_info": {
      "name": "python"
    }
  },
  "cells": [
    {
      "cell_type": "code",
      "execution_count": 1,
      "metadata": {
        "colab": {
          "base_uri": "https://localhost:8080/"
        },
        "id": "LwRHYyVsw5ku",
        "outputId": "ca0fc097-841d-4588-8478-bba81bbedae0"
      },
      "outputs": [
        {
          "output_type": "stream",
          "name": "stdout",
          "text": [
            "Page Reference: [1, 3, 0, 3, 5, 6, 3]\n",
            "Frame size: 3\n",
            "\n",
            "Step by step process:\n",
            "\n",
            "Step 1: Page 1 -> Frame: [1] (Miss)\n",
            "Step 2: Page 3 -> Frame: [1, 3] (Miss)\n",
            "Step 3: Page 0 -> Frame: [1, 3, 0] (Miss)\n",
            "Step 4: Page 3 -> Frame: [1, 3, 0] (Hit)\n",
            "Step 5: Page 5 -> Frame: [3, 0, 5] (Miss)\n",
            "Step 6: Page 6 -> Frame: [0, 5, 6] (Miss)\n",
            "Step 7: Page 3 -> Frame: [5, 6, 3] (Miss)\n",
            "\n",
            "Total Page Faults: 6\n",
            "Total Page Hits: 1\n"
          ]
        }
      ],
      "source": [
        "def fifo_page_replacement(pages, frame_size):\n",
        "    frame = []\n",
        "    page_faults = 0\n",
        "    page_hits = 0\n",
        "\n",
        "    print(\"Page Reference:\", pages)\n",
        "    print(\"Frame size:\", frame_size)\n",
        "    print(\"\\nStep by step process:\\n\")\n",
        "\n",
        "    for i, page in enumerate(pages):\n",
        "        if page not in frame:\n",
        "            if len(frame) < frame_size:\n",
        "                frame.append(page)\n",
        "            else:\n",
        "                frame.pop(0)\n",
        "                frame.append(page)\n",
        "            page_faults += 1\n",
        "            status = \"Miss\"\n",
        "        else:\n",
        "            page_hits += 1\n",
        "            status = \"Hit\"\n",
        "\n",
        "        print(f\"Step {i+1}: Page {page} -> Frame: {frame} ({status})\")\n",
        "\n",
        "    print(\"\\nTotal Page Faults:\", page_faults)\n",
        "    print(\"Total Page Hits:\", page_hits)\n",
        "\n",
        "pages = [1, 3, 0, 3, 5, 6, 3]\n",
        "frame_size = 3\n",
        "\n",
        "fifo_page_replacement(pages, frame_size)\n",
        "\n"
      ]
    }
  ]
}