{
  "nbformat": 4,
  "nbformat_minor": 0,
  "metadata": {
    "colab": {
      "provenance": []
    },
    "kernelspec": {
      "name": "python3",
      "display_name": "Python 3"
    },
    "language_info": {
      "name": "python"
    }
  },
  "cells": [
    {
      "cell_type": "code",
      "execution_count": 2,
      "metadata": {
        "colab": {
          "base_uri": "https://localhost:8080/"
        },
        "id": "_iBw_02ZDHoA",
        "outputId": "2739a3d6-c454-40cd-82ac-d272ccc5cd36"
      },
      "outputs": [
        {
          "output_type": "stream",
          "name": "stdout",
          "text": [
            "8\n"
          ]
        }
      ],
      "source": [
        "def page_faults(page, n, capacity):\n",
        "    s = set()\n",
        "    indexes = {}\n",
        "    page_faults = 0\n",
        "    for i in range(n):\n",
        "        if page[i] not in s:\n",
        "            if len(s) < capacity:\n",
        "                s.add(page[i])\n",
        "                page_faults += 1\n",
        "                indexes[page[i]] = i\n",
        "            else:\n",
        "                lru = float('inf')\n",
        "                val = -1\n",
        "                for item in s:\n",
        "                    if indexes[item] < lru:\n",
        "                        lru = indexes[item]\n",
        "                        val = item\n",
        "                s.remove(val)\n",
        "                s.add(page[i])\n",
        "                page_faults += 1\n",
        "                indexes[page[i]] = i\n",
        "        else:\n",
        "            indexes[page[i]] = i\n",
        "\n",
        "    return page_faults\n",
        "\n",
        "page = [7, 0, 1, 2, 0, 3, 0, 4, 2, 3]\n",
        "n = len(page)\n",
        "capacity = 3\n",
        "print(page_faults(page, n, capacity))"
      ]
    }
  ]
}