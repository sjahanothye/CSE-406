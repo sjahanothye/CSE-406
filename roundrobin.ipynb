{
  "nbformat": 4,
  "nbformat_minor": 0,
  "metadata": {
    "colab": {
      "provenance": []
    },
    "kernelspec": {
      "name": "python3",
      "display_name": "Python 3"
    },
    "language_info": {
      "name": "python"
    }
  },
  "cells": [
    {
      "cell_type": "code",
      "execution_count": 4,
      "metadata": {
        "colab": {
          "base_uri": "https://localhost:8080/"
        },
        "id": "75ZM78loxKwX",
        "outputId": "9a0ecc50-6728-48a1-9841-8ca2c06ff4f7"
      },
      "outputs": [
        {
          "output_type": "stream",
          "name": "stdout",
          "text": [
            "PID\tAT\tBT\tCT\tTAT\tWT\n",
            "P1\t0\t7\t31\t31\t24\n",
            "P2\t1\t4\t9\t8\t4\n",
            "P3\t2\t15\t55\t53\t38\n",
            "P4\t3\t11\t56\t53\t42\n",
            "P5\t4\t20\t66\t62\t42\n",
            "P6\t4\t9\t50\t46\t37\n",
            "Average TAT : 42.166666666666664\n",
            "Average WT : 31.166666666666668\n"
          ]
        }
      ],
      "source": [
        "processes=['P1','P2','P3','P4','P5','P6']\n",
        "arrival_time=[0,1,2,3,4,4]\n",
        "burst_time=[7,4,15,11,20,9]\n",
        "time_quant=5\n",
        "n=len(processes)\n",
        "remaining_bt=burst_time[:]\n",
        "completion_time=[0]*n\n",
        "tat=[0]*n\n",
        "wt=[0]*n\n",
        "time=0\n",
        "done=False\n",
        "while not done:\n",
        "  done=True\n",
        "  for i in range(n):\n",
        "    if arrival_time[i]<=time and remaining_bt[i]>0:\n",
        "      done=False\n",
        "      if remaining_bt[i]>time_quant:\n",
        "        time+=time_quant\n",
        "        remaining_bt[i]-=time_quant\n",
        "      else:\n",
        "        time+=remaining_bt[i]\n",
        "        completion_time[i]=time\n",
        "        remaining_bt[i]=0\n",
        "for i in range(n):\n",
        "  tat[i]=completion_time[i]-arrival_time[i]\n",
        "  wt[i]=tat[i]-burst_time[i]\n",
        "\n",
        "print(\"PID\\tAT\\tBT\\tCT\\tTAT\\tWT\")\n",
        "for i in range(n):\n",
        "  print(f\"{processes[i]}\\t{arrival_time[i]}\\t{burst_time[i]}\\t{completion_time[i]}\\t{tat[i]}\\t{wt[i]}\")\n",
        "\n",
        "print(\"Average TAT :\", sum(tat)/n)\n",
        "print(\"Average WT :\", sum(wt)/n)"
      ]
    }
  ]
}