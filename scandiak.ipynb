{
  "nbformat": 4,
  "nbformat_minor": 0,
  "metadata": {
    "colab": {
      "provenance": []
    },
    "kernelspec": {
      "name": "python3",
      "display_name": "Python 3"
    },
    "language_info": {
      "name": "python"
    }
  },
  "cells": [
    {
      "cell_type": "code",
      "execution_count": 9,
      "metadata": {
        "colab": {
          "base_uri": "https://localhost:8080/"
        },
        "id": "apStTzLCxJ3I",
        "outputId": "b40e5f85-5af3-48c3-a953-de26f4143e4e"
      },
      "outputs": [
        {
          "output_type": "stream",
          "name": "stdout",
          "text": [
            "Seek Sequence : [51, 75, 118, 137, 137, 179, 240, 240]\n",
            "Total seek time : 193\n"
          ]
        }
      ],
      "source": [
        "def elevator(requests,head,direction,disk_size=240):\n",
        "   requests=sorted(requests)\n",
        "   sequence=[]\n",
        "   total_seek=0\n",
        "\n",
        "   left=[r for r in requests if r<head]\n",
        "   right=[r for r in requests if r>head]\n",
        "\n",
        "   if direction==\"left\":\n",
        "    left.reverse()\n",
        "\n",
        "    for r in left:\n",
        "      total_seek+=abs(head-r)\n",
        "      head=r\n",
        "      sequence.append(head)\n",
        "    for r in right:\n",
        "        total_seek+=abs(head-r)\n",
        "        head=r\n",
        "        sequence.append(head)\n",
        "    return sequence, total_seek\n",
        "\n",
        "requests=[137,240,51,55,75,118,137,179,240]\n",
        "head=55\n",
        "direction=\"left\"\n",
        "sequence, total_seek= elevator(requests,head,direction)\n",
        "print(\"Seek Sequence :\", sequence)\n",
        "print(\"Total seek time :\", total_seek)"
      ]
    }
  ]
}