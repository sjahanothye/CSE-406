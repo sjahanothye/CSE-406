{
  "nbformat": 4,
  "nbformat_minor": 0,
  "metadata": {
    "colab": {
      "provenance": []
    },
    "kernelspec": {
      "name": "python3",
      "display_name": "Python 3"
    },
    "language_info": {
      "name": "python"
    }
  },
  "cells": [
    {
      "cell_type": "code",
      "execution_count": 1,
      "metadata": {
        "colab": {
          "base_uri": "https://localhost:8080/"
        },
        "id": "Ev-IidkMw7nR",
        "outputId": "f19f3523-4f5a-4adc-c6ed-948b1bbbc0ef"
      },
      "outputs": [
        {
          "output_type": "stream",
          "name": "stdout",
          "text": [
            "Seek Sequence: [50, 39, 21, 64, 79, 90, 176]\n",
            "Total Seek Count: 496\n"
          ]
        }
      ],
      "source": [
        "def c_scan(requests, head, disk_size, direction=\"left\"):\n",
        "    seek_sequence = []\n",
        "    seek_count = 0\n",
        "\n",
        "    requests.sort()\n",
        "\n",
        "    left = [r for r in requests if r < head]\n",
        "    right = [r for r in requests if r > head]\n",
        "\n",
        "    if direction == \"left\":\n",
        "        left.sort(reverse=True)\n",
        "        for r in left:\n",
        "            seek_sequence.append(r)\n",
        "            seek_count += abs(head - r)\n",
        "            head = r\n",
        "\n",
        "        seek_count += head\n",
        "        head = 0\n",
        "\n",
        "        seek_count += (disk_size - 1)\n",
        "        head = disk_size - 1\n",
        "\n",
        "        right.sort(reverse=True)\n",
        "        for r in right[::-1]:\n",
        "            seek_sequence.append(r)\n",
        "            seek_count += abs(head - r)\n",
        "            head = r\n",
        "\n",
        "    else:\n",
        "        right.sort()\n",
        "        for r in right:\n",
        "            seek_sequence.append(r)\n",
        "            seek_count += abs(head - r)\n",
        "            head = r\n",
        "\n",
        "        seek_count += (disk_size - 1 - head)\n",
        "        head = disk_size - 1\n",
        "\n",
        "        seek_count += (disk_size - 1)\n",
        "        head = 0\n",
        "\n",
        "        left.sort()\n",
        "        for r in left:\n",
        "            seek_sequence.append(r)\n",
        "            seek_count += abs(head - r)\n",
        "            head = r\n",
        "\n",
        "    return seek_sequence, seek_count\n",
        "\n",
        "requests = [176, 79, 64, 90, 21, 39]\n",
        "head = 50\n",
        "disk_size = 200\n",
        "direction = \"left\"\n",
        "\n",
        "seq, count = c_scan(requests, head, disk_size, direction)\n",
        "\n",
        "print(\"Seek Sequence:\", [head] + seq)\n",
        "print(\"Total Seek Count:\", count)\n"
      ]
    }
  ]
}