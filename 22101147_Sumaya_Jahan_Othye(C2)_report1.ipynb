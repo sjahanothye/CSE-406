{
  "nbformat": 4,
  "nbformat_minor": 0,
  "metadata": {
    "colab": {
      "provenance": []
    },
    "kernelspec": {
      "name": "python3",
      "display_name": "Python 3"
    },
    "language_info": {
      "name": "python"
    }
  },
  "cells": [
    {
      "cell_type": "code",
      "execution_count": 12,
      "metadata": {
        "colab": {
          "base_uri": "https://localhost:8080/"
        },
        "id": "ysocM9N0RcaE",
        "outputId": "0d1b8b77-a971-4dbc-b051-a2a41830c960"
      },
      "outputs": [
        {
          "output_type": "stream",
          "name": "stdout",
          "text": [
            "PID\tAT\tBT\tCT\tTAT\tWT\n",
            "P0\t0\t4\t4\t4\t0\n",
            "P1\t2\t3\t7\t5\t2\n",
            "P2\t3\t2\t9\t6\t4\n",
            "P3\t5\t1\t10\t5\t4\n",
            "Average Turnaround Time: 5.0\n",
            "Average Waiting Time: 2.5\n"
          ]
        }
      ],
      "source": [
        "class FCFS:\n",
        "    def __init__(self, pid, arrival_time, burst_time):\n",
        "        self.pid = pid\n",
        "        self.arrival_time = arrival_time\n",
        "        self.burst_time = burst_time\n",
        "        self.completion_time = 0\n",
        "        self.turnaround_time = 0\n",
        "        self.waiting_time = 0\n",
        "\n",
        "fcfs = [\n",
        "    FCFS(0, 0, 4),\n",
        "    FCFS(1, 2, 3),\n",
        "    FCFS(2, 3, 2),\n",
        "    FCFS(3, 5, 1)\n",
        "]\n",
        "\n",
        "current_time = 0\n",
        "total_tat = 0\n",
        "total_wt = 0\n",
        "\n",
        "print(\"PID\\tAT\\tBT\\tCT\\tTAT\\tWT\")\n",
        "\n",
        "for f in fcfs:\n",
        "    if current_time < f.arrival_time:\n",
        "        current_time = f.arrival_time\n",
        "    f.completion_time = current_time + f.burst_time\n",
        "    f.turnaround_time = f.completion_time - f.arrival_time\n",
        "    f.waiting_time = f.turnaround_time - f.burst_time\n",
        "    current_time = f.completion_time\n",
        "\n",
        "    total_tat += f.turnaround_time\n",
        "    total_wt += f.waiting_time\n",
        "\n",
        "    print(f\"P{f.pid}\\t{f.arrival_time}\\t{f.burst_time}\\t{f.completion_time}\\t{f.turnaround_time}\\t{f.waiting_time}\")\n",
        "n = len(fcfs)\n",
        "avg_tat = total_tat / n\n",
        "avg_wt = total_wt / n\n",
        "\n",
        "print(f\"Average Turnaround Time: {avg_tat}\")\n",
        "print(f\"Average Waiting Time: {avg_wt}\")\n"
      ]
    }
  ]
}